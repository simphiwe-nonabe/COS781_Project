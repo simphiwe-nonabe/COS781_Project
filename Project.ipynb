{
 "cells": [
  {
   "cell_type": "code",
   "execution_count": 103,
   "metadata": {
    "id": "cZVbU56aY1Px"
   },
   "outputs": [],
   "source": [
    "NAME = \"Simphiwe Nonabe\"\n",
    "STUDENT_NUMBER = \"21488275\""
   ]
  },
  {
   "cell_type": "code",
   "execution_count": 1,
   "metadata": {},
   "outputs": [],
   "source": [
    "import warnings\n",
    "warnings.filterwarnings(\"ignore\")\n"
   ]
  },
  {
   "cell_type": "code",
   "execution_count": 2,
   "metadata": {
    "id": "aHqTdA6NZ_Ci"
   },
   "outputs": [],
   "source": [
    "import pandas as pd\n",
    "import matplotlib.pyplot as plt\n",
    "import seaborn as sns\n",
    "\n",
    "# Load the dataset\n",
    "url = 'steam-200k.csv/steam-200k.csv'\n",
    "df = pd.read_csv(url,  delimiter=';')"
   ]
  },
  {
   "cell_type": "markdown",
   "metadata": {},
   "source": [
    "# Data Inspection"
   ]
  },
  {
   "cell_type": "code",
   "execution_count": 3,
   "metadata": {},
   "outputs": [
    {
     "name": "stdout",
     "output_type": "stream",
     "text": [
      "First few rows of the dataset:\n",
      "     User ID      Name of the steam game Behavior name (purchase/play)  \\\n",
      "0  151603712  The Elder Scrolls V Skyrim                      purchase   \n",
      "1  151603712  The Elder Scrolls V Skyrim                          play   \n",
      "2  151603712                   Fallout 4                      purchase   \n",
      "3  151603712                   Fallout 4                          play   \n",
      "4  151603712                       Spore                      purchase   \n",
      "\n",
      "   Behavior value    0  \n",
      "0             1.0  0.0  \n",
      "1           273.0  0.0  \n",
      "2             1.0  0.0  \n",
      "3            87.0  0.0  \n",
      "4             1.0  0.0  \n"
     ]
    }
   ],
   "source": [
    "# Display the first few rows of the data\n",
    "print(\"First few rows of the dataset:\")\n",
    "print(df.head())"
   ]
  },
  {
   "cell_type": "markdown",
   "metadata": {},
   "source": [
    "### General overview"
   ]
  },
  {
   "cell_type": "code",
   "execution_count": 4,
   "metadata": {},
   "outputs": [
    {
     "name": "stdout",
     "output_type": "stream",
     "text": [
      "General overview:\n",
      "<class 'pandas.core.frame.DataFrame'>\n",
      "RangeIndex: 200000 entries, 0 to 199999\n",
      "Data columns (total 5 columns):\n",
      " #   Column                         Non-Null Count   Dtype  \n",
      "---  ------                         --------------   -----  \n",
      " 0   User ID                        200000 non-null  int64  \n",
      " 1   Name of the steam game         200000 non-null  object \n",
      " 2   Behavior name (purchase/play)  199975 non-null  object \n",
      " 3   Behavior value                 199975 non-null  float64\n",
      " 4   0                              199975 non-null  float64\n",
      "dtypes: float64(2), int64(1), object(2)\n",
      "memory usage: 7.6+ MB\n",
      "None\n",
      "\n",
      "\n",
      "Shape:\n",
      " (200000, 5)\n",
      "\n",
      "\n",
      "Data types:\n",
      " User ID                            int64\n",
      "Name of the steam game            object\n",
      "Behavior name (purchase/play)     object\n",
      "Behavior value                   float64\n",
      "0                                float64\n",
      "dtype: object\n",
      "\n",
      "\n",
      "Missing values\n",
      "           User ID      Name of the steam game Behavior name (purchase/play)  \\\n",
      "6926     72842694  Hyperdimension Neptunia Re                           NaN   \n",
      "6927     72842694  Hyperdimension Neptunia Re                           NaN   \n",
      "7108     72842694  Hyperdimension Neptunia Re                           NaN   \n",
      "26865    39082468  Hyperdimension Neptunia Re                           NaN   \n",
      "26866    39082468  Hyperdimension Neptunia Re                           NaN   \n",
      "57744   152542298  Hyperdimension Neptunia Re                           NaN   \n",
      "71543    49462664  Hyperdimension Neptunia Re                           NaN   \n",
      "71544    49462664  Hyperdimension Neptunia Re                           NaN   \n",
      "122390  152078939  Hyperdimension Neptunia Re                           NaN   \n",
      "122391  152078939  Hyperdimension Neptunia Re                           NaN   \n",
      "122605   76892907  Hyperdimension Neptunia Re                           NaN   \n",
      "122606   76892907  Hyperdimension Neptunia Re                           NaN   \n",
      "122922   76892907  Hyperdimension Neptunia Re                           NaN   \n",
      "122923   76892907  Hyperdimension Neptunia Re                           NaN   \n",
      "133891  167815968  Hyperdimension Neptunia Re                           NaN   \n",
      "133892  167815968  Hyperdimension Neptunia Re                           NaN   \n",
      "133933  167815968  Hyperdimension Neptunia Re                           NaN   \n",
      "137847  155919035  Hyperdimension Neptunia Re                           NaN   \n",
      "137848  155919035  Hyperdimension Neptunia Re                           NaN   \n",
      "149612   16645459  Hyperdimension Neptunia Re                           NaN   \n",
      "149613   16645459  Hyperdimension Neptunia Re                           NaN   \n",
      "174946   77980915  Hyperdimension Neptunia Re                           NaN   \n",
      "174947   77980915  Hyperdimension Neptunia Re                           NaN   \n",
      "175033   77980915  Hyperdimension Neptunia Re                           NaN   \n",
      "175083   77980915  Hyperdimension Neptunia Re                           NaN   \n",
      "\n",
      "        Behavior value   0  \n",
      "6926               NaN NaN  \n",
      "6927               NaN NaN  \n",
      "7108               NaN NaN  \n",
      "26865              NaN NaN  \n",
      "26866              NaN NaN  \n",
      "57744              NaN NaN  \n",
      "71543              NaN NaN  \n",
      "71544              NaN NaN  \n",
      "122390             NaN NaN  \n",
      "122391             NaN NaN  \n",
      "122605             NaN NaN  \n",
      "122606             NaN NaN  \n",
      "122922             NaN NaN  \n",
      "122923             NaN NaN  \n",
      "133891             NaN NaN  \n",
      "133892             NaN NaN  \n",
      "133933             NaN NaN  \n",
      "137847             NaN NaN  \n",
      "137848             NaN NaN  \n",
      "149612             NaN NaN  \n",
      "149613             NaN NaN  \n",
      "174946             NaN NaN  \n",
      "174947             NaN NaN  \n",
      "175033             NaN NaN  \n",
      "175083             NaN NaN  \n",
      "\n",
      "\n",
      "Summary statistics:\n",
      "             User ID  Behavior value         0\n",
      "count  2.000000e+05   199975.000000  199975.0\n",
      "mean   1.036559e+08       17.876396       0.0\n",
      "std    7.208074e+07      138.065462       0.0\n",
      "min    5.250000e+03        0.100000       0.0\n",
      "25%    4.738420e+07        1.000000       0.0\n",
      "50%    8.691201e+07        1.000000       0.0\n",
      "75%    1.542309e+08        1.300000       0.0\n",
      "max    3.099031e+08    11754.000000       0.0\n"
     ]
    }
   ],
   "source": [
    "print(\"General overview:\")\n",
    "print(df.info())\n",
    "\n",
    "print(\"\\n\\nShape:\\n\", df.shape)\n",
    "\n",
    "print(\"\\n\\nData types:\\n\", df.dtypes)\n",
    "#\n",
    "print(\"\\n\\nMissing values\\n\", df[df.isnull().any(axis=1)])\n",
    "\n",
    "print(\"\\n\\nSummary statistics:\\n\", df.describe())\n"
   ]
  },
  {
   "cell_type": "markdown",
   "metadata": {},
   "source": [
    "# Data Preprocessing\n",
    "\n",
    "Handling Missing Data and Cleaning Dataset"
   ]
  },
  {
   "cell_type": "code",
   "execution_count": 5,
   "metadata": {},
   "outputs": [],
   "source": [
    "# Drop rows with missing values\n",
    "df = df.dropna()"
   ]
  },
  {
   "cell_type": "code",
   "execution_count": 6,
   "metadata": {},
   "outputs": [],
   "source": [
    "# Drop colmun that only contains zeros\n",
    "df = df.drop('0', axis=1)"
   ]
  },
  {
   "cell_type": "code",
   "execution_count": 7,
   "metadata": {},
   "outputs": [
    {
     "name": "stdout",
     "output_type": "stream",
     "text": [
      "\n",
      "\n",
      "Shape:\n",
      " (199975, 4)\n"
     ]
    }
   ],
   "source": [
    "print(\"\\n\\nShape:\\n\", df.shape) "
   ]
  },
  {
   "cell_type": "markdown",
   "metadata": {},
   "source": [
    "Behavior-Specific Data Segmentation"
   ]
  },
  {
   "cell_type": "code",
   "execution_count": 8,
   "metadata": {},
   "outputs": [
    {
     "name": "stdout",
     "output_type": "stream",
     "text": [
      "\n",
      "\n",
      "Play data:\n",
      "      User ID      Name of the steam game Behavior name (purchase/play)  \\\n",
      "1  151603712  The Elder Scrolls V Skyrim                          play   \n",
      "3  151603712                   Fallout 4                          play   \n",
      "5  151603712                       Spore                          play   \n",
      "7  151603712           Fallout New Vegas                          play   \n",
      "9  151603712               Left 4 Dead 2                          play   \n",
      "\n",
      "   Behavior value  \n",
      "1           273.0  \n",
      "3            87.0  \n",
      "5            14.9  \n",
      "7            12.1  \n",
      "9             8.9  \n",
      "\n",
      "\n",
      "Purchase data:\n",
      "      User ID      Name of the steam game Behavior name (purchase/play)  \\\n",
      "0  151603712  The Elder Scrolls V Skyrim                      purchase   \n",
      "2  151603712                   Fallout 4                      purchase   \n",
      "4  151603712                       Spore                      purchase   \n",
      "6  151603712           Fallout New Vegas                      purchase   \n",
      "8  151603712               Left 4 Dead 2                      purchase   \n",
      "\n",
      "   Behavior value  \n",
      "0             1.0  \n",
      "2             1.0  \n",
      "4             1.0  \n",
      "6             1.0  \n",
      "8             1.0  \n"
     ]
    }
   ],
   "source": [
    "play_df = df[df['Behavior name (purchase/play)'] == 'play']\n",
    "purchase_df = df[df['Behavior name (purchase/play)'] == 'purchase']\n",
    "\n",
    "print(\"\\n\\nPlay data:\\n\", play_df.head())\n",
    "print(\"\\n\\nPurchase data:\\n\", purchase_df.head())"
   ]
  },
  {
   "cell_type": "markdown",
   "metadata": {},
   "source": [
    "# Visualisations"
   ]
  },
  {
   "cell_type": "code",
   "execution_count": 9,
   "metadata": {},
   "outputs": [
    {
     "data": {
      "image/png": "[encoded data removed]",
      "text/plain": [
       "<Figure size 1200x600 with 1 Axes>"
      ]
     },
     "metadata": {},
     "output_type": "display_data"
    }
   ],
   "source": [
    "plt.figure(figsize=(12, 6))\n",
    "top_played_games = play_df['Name of the steam game'].value_counts().head(10)\n",
    "sns.barplot(x=top_played_games.values, y=top_played_games.index, palette=\"viridis\")\n",
    "plt.title('Top 10 Most Played Games')\n",
    "plt.xlabel('Play Count')\n",
    "plt.ylabel('Game')\n",
    "plt.show()"
   ]
  },
  {
   "cell_type": "code",
   "execution_count": 10,
   "metadata": {},
   "outputs": [
    {
     "data": {
      "image/png": "[encoded data removed]",
      "text/plain": [
       "<Figure size 1200x600 with 1 Axes>"
      ]
     },
     "metadata": {},
     "output_type": "display_data"
    }
   ],
   "source": [
    "avg_playtime = play_df.groupby('Name of the steam game')['Behavior value'].mean().nlargest(10)\n",
    "plt.figure(figsize=(12, 6))\n",
    "sns.barplot(x=avg_playtime.values, y=avg_playtime.index, palette=\"magma\")\n",
    "plt.title('Top 10 Games by Average Playtime')\n",
    "plt.xlabel('Average Playtime (hours)')\n",
    "plt.ylabel('Game')\n",
    "plt.show()"
   ]
  },
  {
   "cell_type": "markdown",
   "metadata": {},
   "source": [
    "# Data Mining Methods and Analysis\n",
    "\n",
    "### Showcasing game recommendations using Collaborative Filtering, Association Rule Mining and Matrix Factorization  "
   ]
  },
  {
   "cell_type": "code",
   "execution_count": 11,
   "metadata": {},
   "outputs": [],
   "source": [
    "from sklearn.metrics.pairwise import cosine_similarity"
   ]
  },
  {
   "cell_type": "markdown",
   "metadata": {},
   "source": [
    "\n",
    "\n",
    "Collaborative Filtering:"
   ]
  },
  {
   "cell_type": "code",
   "execution_count": 12,
   "metadata": {},
   "outputs": [
    {
     "name": "stdout",
     "output_type": "stream",
     "text": [
      "\n",
      "Collaborative Filtering Recommendations for 'Counter-Strike':\n",
      "Name of the steam game\n",
      "Violett                         0.243529\n",
      "Knightmare Tower                0.243529\n",
      "David.                          0.243529\n",
      "Larva Mortus                    0.146117\n",
      "Infestation Survivor Stories    0.137646\n",
      "Name: Counter-Strike, dtype: float64\n"
     ]
    }
   ],
   "source": [
    "df = df[df['Behavior name (purchase/play)'] == 'play']  # Focus on play behavior only\n",
    "# Create a user-game matrix\n",
    "user_game_matrix = df.pivot_table(index='User ID', columns='Name of the steam game', values='Behavior value').fillna(0)\n",
    "\n",
    "# Calculate cosine similarity between games\n",
    "game_similarity = cosine_similarity(user_game_matrix.T)  # Transpose to get game-game similarity\n",
    "game_similarity_df = pd.DataFrame(game_similarity, index=user_game_matrix.columns, columns=user_game_matrix.columns)\n",
    "\n",
    "# Function to generate recommendations\n",
    "def collaborative_filtering_recommendations(game_name, similarity_df, top_n=5):\n",
    "    \"\"\"\n",
    "    Generates game recommendations based on similarity.\n",
    "\n",
    "    Parameters:\n",
    "        game_name (str): Name of the game to find recommendations for.\n",
    "        similarity_df (DataFrame): Game similarity matrix.\n",
    "        top_n (int): Number of recommendations to return.\n",
    "\n",
    "    Returns:\n",
    "        Series: Top N recommended games with similarity scores.\n",
    "    \"\"\"\n",
    "    if game_name not in similarity_df.index:\n",
    "        return f\"Game '{game_name}' not found in the dataset.\"\n",
    "    # Sort similar games in descending order and exclude the input game itself\n",
    "    recommendations = similarity_df[game_name].sort_values(ascending=False).head(top_n + 1)\n",
    "    return recommendations.iloc[1:]  # Exclude the input game itself\n",
    "\n",
    "# Example usage\n",
    "example_game = 'Counter-Strike'\n",
    "print(f\"\\nCollaborative Filtering Recommendations for '{example_game}':\")\n",
    "recommendations = collaborative_filtering_recommendations(example_game, game_similarity_df)\n",
    "print(recommendations)\n"
   ]
  },
  {
   "cell_type": "markdown",
   "metadata": {},
   "source": [
    "\n",
    "\n",
    "Association Rule Mining:"
   ]
  },
  {
   "cell_type": "code",
   "execution_count": 13,
   "metadata": {},
   "outputs": [
    {
     "name": "stderr",
     "output_type": "stream",
     "text": [
      "c:\\Users\\simphiwe.nonabe\\AppData\\Local\\Programs\\Python\\Python312\\Lib\\site-packages\\mlxtend\\frequent_patterns\\fpcommon.py:161: DeprecationWarning: DataFrames with non-bool types result in worse computationalperformance and their support might be discontinued in the future.Please use a DataFrame with bool type\n",
      "  warnings.warn(\n"
     ]
    },
    {
     "name": "stdout",
     "output_type": "stream",
     "text": [
      "\n",
      "Association Rules:\n",
      "                      antecedent                         consequent   support  \\\n",
      "0                 (Alien Swarm)                    (Left 4 Dead 2)  0.013216   \n",
      "1                 (Alien Swarm)                  (Team Fortress 2)  0.017004   \n",
      "2  (Arma 2 Operation Arrowhead)  (Counter-Strike Global Offensive)  0.010396   \n",
      "3  (Arma 2 Operation Arrowhead)                  (Team Fortress 2)  0.010220   \n",
      "4           (BioShock Infinite)                    (Left 4 Dead 2)  0.010396   \n",
      "\n",
      "   confidence      lift  \n",
      "0    0.519031  7.354561  \n",
      "1    0.667820  3.262918  \n",
      "2    0.624339  5.146146  \n",
      "3    0.613757  2.998768  \n",
      "4    0.556604  7.886957  \n"
     ]
    }
   ],
   "source": [
    "from mlxtend.frequent_patterns import apriori\n",
    "\n",
    "# Prepare data in transaction format (User-Item matrix with binary values)\n",
    "df['Played'] = 1\n",
    "transaction_df = df.pivot_table(index='User ID', columns='Name of the steam game', values='Played').fillna(0)\n",
    "\n",
    "# Apply Apriori to find frequent itemsets\n",
    "frequent_itemsets = apriori(transaction_df, min_support=0.01, use_colnames=True)\n",
    "\n",
    "# Manually compute association rules (alternative method)\n",
    "def compute_association_rules(frequent_itemsets, min_confidence=0.5, min_lift=1.0):\n",
    "    rules = []\n",
    "    for _, itemset_row in frequent_itemsets.iterrows():\n",
    "        support = itemset_row['support']\n",
    "        items = itemset_row['itemsets']\n",
    "        if len(items) < 2:\n",
    "            continue  # skip itemsets with fewer than 2 items\n",
    "        for item in items:\n",
    "            antecedent = frozenset([item])\n",
    "            consequent = items - antecedent\n",
    "            if not consequent:\n",
    "                continue\n",
    "            # Confidence calculation\n",
    "            antecedent_support = frequent_itemsets[frequent_itemsets['itemsets'] == antecedent]['support'].values[0]\n",
    "            confidence = support / antecedent_support\n",
    "            # Lift calculation\n",
    "            consequent_support = frequent_itemsets[frequent_itemsets['itemsets'] == consequent]['support'].values[0]\n",
    "            lift = confidence / consequent_support\n",
    "            # Filter based on min_confidence and min_lift\n",
    "            if confidence >= min_confidence and lift >= min_lift:\n",
    "                rules.append({\n",
    "                    'antecedent': antecedent,\n",
    "                    'consequent': consequent,\n",
    "                    'support': support,\n",
    "                    'confidence': confidence,\n",
    "                    'lift': lift\n",
    "                })\n",
    "    return pd.DataFrame(rules)\n",
    "\n",
    "# Compute association rules\n",
    "rules_df = compute_association_rules(frequent_itemsets)\n",
    "print(\"\\nAssociation Rules:\\n\", rules_df.head())\n"
   ]
  },
  {
   "cell_type": "markdown",
   "metadata": {},
   "source": [
    "\n",
    "\n",
    "\n",
    "Matrix Factorization:"
   ]
  },
  {
   "cell_type": "code",
   "execution_count": 14,
   "metadata": {},
   "outputs": [
    {
     "name": "stdout",
     "output_type": "stream",
     "text": [
      "\n",
      "Matrix Factorization Recommendations for User 5250:\n",
      "Name of the steam game\n",
      "The Elder Scrolls V Skyrim                     1.550394\n",
      "Mount & Blade Warband                          1.120259\n",
      "Team Fortress 2                                0.983991\n",
      "Call of Duty Modern Warfare 2 - Multiplayer    0.486359\n",
      "Total War ROME II - Emperor Edition            0.444126\n",
      "Name: 5250, dtype: float64\n"
     ]
    }
   ],
   "source": [
    "from sklearn.decomposition import TruncatedSVD\n",
    "\n",
    "# Decompose user-game matrix using SVD\n",
    "svd = TruncatedSVD(n_components=10, random_state=42)\n",
    "user_game_matrix_svd = svd.fit_transform(user_game_matrix)\n",
    "\n",
    "# Reconstruct the approximation to get recommendations\n",
    "approximation = svd.inverse_transform(user_game_matrix_svd)\n",
    "recommendation_df = pd.DataFrame(approximation, index=user_game_matrix.index, columns=user_game_matrix.columns)\n",
    "\n",
    "# Example recommendation for a specific user\n",
    "user_id = user_game_matrix.index[0]  # Replace with a specific user ID\n",
    "print(f\"\\nMatrix Factorization Recommendations for User {user_id}:\")\n",
    "print(recommendation_df.loc[user_id].sort_values(ascending=False).head(5))\n"
   ]
  },
  {
   "cell_type": "markdown",
   "metadata": {},
   "source": [
    "### Experimentation\n"
   ]
  },
  {
   "cell_type": "code",
   "execution_count": 15,
   "metadata": {},
   "outputs": [],
   "source": [
    "from sklearn.decomposition import TruncatedSVD\n",
    "from sklearn.model_selection import train_test_split\n",
    "from sklearn.metrics import average_precision_score\n",
    "from mlxtend.frequent_patterns import apriori\n",
    "\n",
    "df = df[df['Behavior name (purchase/play)'] == 'play']  # Focus on play behavior only\n",
    "df = df[['User ID', 'Name of the steam game', 'Behavior value']]"
   ]
  },
  {
   "cell_type": "markdown",
   "metadata": {},
   "source": [
    "\n",
    "Comparing Collaborative Filtering, Association Rule Mining and Matrix Factorization using relevant metrics"
   ]
  },
  {
   "cell_type": "code",
   "execution_count": 16,
   "metadata": {},
   "outputs": [
    {
     "name": "stderr",
     "output_type": "stream",
     "text": [
      "c:\\Users\\simphiwe.nonabe\\AppData\\Local\\Programs\\Python\\Python312\\Lib\\site-packages\\mlxtend\\frequent_patterns\\fpcommon.py:161: DeprecationWarning: DataFrames with non-bool types result in worse computationalperformance and their support might be discontinued in the future.Please use a DataFrame with bool type\n",
      "  warnings.warn(\n"
     ]
    },
    {
     "name": "stdout",
     "output_type": "stream",
     "text": [
      "\n",
      "Evaluation Results for Collaborative Filtering:\n",
      "Precision: 0.0184\n",
      "Recall: 0.0726\n",
      "MAP: 0.0184\n",
      "\n",
      "Evaluation Results for Association Rule Mining:\n",
      "Precision: 0.1504\n",
      "Recall: 0.8352\n",
      "MAP: 0.1504\n",
      "\n",
      "Evaluation Results for Matrix Factorization:\n",
      "Precision: 0.0287\n",
      "Recall: 0.1178\n",
      "MAP: 0.0287\n"
     ]
    }
   ],
   "source": [
    "# Split the data into train and test sets\n",
    "train_df, test_df = train_test_split(df, test_size=0.2, random_state=42)\n",
    "\n",
    "# Create user-game matrices for train and test sets\n",
    "train_user_game_matrix = train_df.pivot_table(index='User ID', columns='Name of the steam game', values='Behavior value').fillna(0)\n",
    "test_user_game_matrix = test_df.pivot_table(index='User ID', columns='Name of the steam game', values='Behavior value').fillna(0)\n",
    "\n",
    "\n",
    "# Collaborative Filtering: Game Similarity Calculation\n",
    "game_similarity = cosine_similarity(train_user_game_matrix.T)\n",
    "game_similarity_df = pd.DataFrame(game_similarity, index=train_user_game_matrix.columns, columns=train_user_game_matrix.columns)\n",
    "\n",
    "\n",
    "# Collaborative Filtering Recommendation Function\n",
    "def collaborative_filtering_recommendations(user_id, user_game_matrix, similarity_df, top_n=10):\n",
    "    if user_id not in user_game_matrix.index:\n",
    "        return []  # No recommendations if user not in training data\n",
    "\n",
    "    user_history = user_game_matrix.loc[user_id]\n",
    "    played_games = user_history[user_history > 0].index\n",
    "\n",
    "    # Calculate scores for unplayed games\n",
    "    scores = pd.Series(0, index=similarity_df.columns)\n",
    "    for game in played_games:\n",
    "        scores += similarity_df[game] * user_history[game]\n",
    "    scores = scores[~scores.index.isin(played_games)]  # Remove already played games\n",
    "\n",
    "    # Return top N recommendations\n",
    "    return scores.sort_values(ascending=False).head(top_n).index.tolist()\n",
    "\n",
    "\n",
    "# Evaluate Collaborative Filtering\n",
    "def evaluate_collaborative_filtering(test_df, train_user_game_matrix, similarity_df, top_n=10):\n",
    "    test_played = test_df.pivot_table(index='User ID', columns='Name of the steam game', values='Behavior value').fillna(0)\n",
    "\n",
    "    precision_scores = []\n",
    "    recall_scores = []\n",
    "    map_scores = []\n",
    "\n",
    "    for user in test_played.index:\n",
    "        true_items = test_played.loc[user][test_played.loc[user] > 0].index.tolist()\n",
    "        recommended_items = collaborative_filtering_recommendations(user, train_user_game_matrix, similarity_df, top_n)\n",
    "\n",
    "        if not recommended_items or not true_items:\n",
    "            continue  # Skip users without recommendations or test data\n",
    "\n",
    "        tp = len(set(true_items) & set(recommended_items))\n",
    "        precision = tp / top_n\n",
    "        recall = tp / len(true_items) if len(true_items) > 0 else 0\n",
    "        ap = average_precision_score(\n",
    "            [1 if item in true_items else 0 for item in recommended_items],\n",
    "            [1] * len(recommended_items)\n",
    "        ) if true_items else 0\n",
    "\n",
    "        precision_scores.append(precision)\n",
    "        recall_scores.append(recall)\n",
    "        map_scores.append(ap)\n",
    "\n",
    "    return {\n",
    "        \"Precision\": sum(precision_scores) / len(precision_scores) if precision_scores else 0,\n",
    "        \"Recall\": sum(recall_scores) / len(recall_scores) if recall_scores else 0,\n",
    "        \"MAP\": sum(map_scores) / len(map_scores) if map_scores else 0\n",
    "    }\n",
    "\n",
    "\n",
    "# Association Rule Mining (Apriori)\n",
    "df['Played'] = 1\n",
    "transaction_df = df.pivot_table(index='User ID', columns='Name of the steam game', values='Played').fillna(0)\n",
    "\n",
    "# Generate frequent itemsets using Apriori\n",
    "frequent_itemsets = apriori(transaction_df, min_support=0.01, use_colnames=True)\n",
    "\n",
    "\n",
    "# Matrix Factorization using SVD\n",
    "svd = TruncatedSVD(n_components=10, random_state=42)\n",
    "user_game_matrix_svd = svd.fit_transform(train_user_game_matrix)\n",
    "\n",
    "# Reconstruct the approximation to generate recommendations\n",
    "approximation = svd.inverse_transform(user_game_matrix_svd)\n",
    "recommendation_df = pd.DataFrame(approximation, index=train_user_game_matrix.index, columns=train_user_game_matrix.columns)\n",
    "\n",
    "\n",
    "# General Evaluation Function\n",
    "def evaluate_recommendations(test_df, recommendation_df, top_n=10):\n",
    "    test_played = test_df.pivot_table(index='User ID', columns='Name of the steam game', values='Behavior value').fillna(0)\n",
    "\n",
    "    precision_scores = []\n",
    "    recall_scores = []\n",
    "    map_scores = []\n",
    "\n",
    "    for user in test_played.index:\n",
    "        if user not in recommendation_df.index:\n",
    "            continue  # Skip users with no recommendations\n",
    "        \n",
    "        true_items = test_played.loc[user][test_played.loc[user] > 0].index.tolist()\n",
    "        recommended_items = recommendation_df.loc[user].sort_values(ascending=False).index[:top_n]\n",
    "        \n",
    "        tp = len(set(true_items) & set(recommended_items))\n",
    "        precision = tp / top_n\n",
    "        recall = tp / len(true_items) if len(true_items) > 0 else 0\n",
    "        ap = average_precision_score(\n",
    "            [1 if item in true_items else 0 for item in recommended_items],\n",
    "            [1] * len(recommended_items)\n",
    "        ) if true_items else 0\n",
    "\n",
    "        precision_scores.append(precision)\n",
    "        recall_scores.append(recall)\n",
    "        map_scores.append(ap)\n",
    "\n",
    "    return {\n",
    "        \"Precision\": sum(precision_scores) / len(precision_scores) if precision_scores else 0,\n",
    "        \"Recall\": sum(recall_scores) / len(recall_scores) if recall_scores else 0,\n",
    "        \"MAP\": sum(map_scores) / len(map_scores) if map_scores else 0\n",
    "    }\n",
    "\n",
    "\n",
    "# Evaluate All Methods\n",
    "collaborative_results = evaluate_collaborative_filtering(test_df, train_user_game_matrix, game_similarity_df)\n",
    "apriori_results = evaluate_recommendations(test_df, transaction_df)\n",
    "matrix_factorization_results = evaluate_recommendations(test_df, recommendation_df)\n",
    "\n",
    "\n",
    "# Display Results\n",
    "print(\"\\nEvaluation Results for Collaborative Filtering:\")\n",
    "for metric, value in collaborative_results.items():\n",
    "    print(f\"{metric}: {value:.4f}\")\n",
    "\n",
    "print(\"\\nEvaluation Results for Association Rule Mining:\")\n",
    "for metric, value in apriori_results.items():\n",
    "    print(f\"{metric}: {value:.4f}\")\n",
    "\n",
    "print(\"\\nEvaluation Results for Matrix Factorization:\")\n",
    "for metric, value in matrix_factorization_results.items():\n",
    "    print(f\"{metric}: {value:.4f}\")\n"
   ]
  }
 ],
 "metadata": {
  "colab": {
   "provenance": []
  },
  "kernelspec": {
   "display_name": "Python 3",
   "name": "python3"
  },
  "language_info": {
   "codemirror_mode": {
    "name": "ipython",
    "version": 3
   },
   "file_extension": ".py",
   "mimetype": "text/x-python",
   "name": "python",
   "nbconvert_exporter": "python",
   "pygments_lexer": "ipython3",
   "version": "3.12.4"
  }
 },
 "nbformat": 4,
 "nbformat_minor": 0
}
