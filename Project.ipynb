{
 "cells": [
  {
   "cell_type": "code",
   "execution_count": 1,
   "metadata": {
    "id": "cZVbU56aY1Px"
   },
   "outputs": [],
   "source": [
    "NAME = \"Simphiwe Nonabe\"\n",
    "STUDENT_NUMBER = \"21488275\""
   ]
  },
  {
   "cell_type": "code",
   "execution_count": 2,
   "metadata": {
    "id": "aHqTdA6NZ_Ci"
   },
   "outputs": [],
   "source": [
    "import pandas as pd"
   ]
  },
  {
   "cell_type": "code",
   "execution_count": 3,
   "metadata": {
    "id": "9iiKXWTDaEUj"
   },
   "outputs": [],
   "source": [
    "url = 'steam-200k.csv/steam-200k.csv'\n",
    "df = pd.read_csv(url)"
   ]
  },
  {
   "cell_type": "code",
   "execution_count": 4,
   "metadata": {},
   "outputs": [
    {
     "name": "stdout",
     "output_type": "stream",
     "text": [
      "   151603712  The Elder Scrolls V Skyrim  purchase    1.0  0\n",
      "0  151603712  The Elder Scrolls V Skyrim      play  273.0  0\n",
      "1  151603712                   Fallout 4  purchase    1.0  0\n",
      "2  151603712                   Fallout 4      play   87.0  0\n",
      "3  151603712                       Spore  purchase    1.0  0\n",
      "4  151603712                       Spore      play   14.9  0\n"
     ]
    }
   ],
   "source": [
    "print(df.head())"
   ]
  }
 ],
 "metadata": {
  "colab": {
   "provenance": []
  },
  "kernelspec": {
   "display_name": "Python 3",
   "name": "python3"
  },
  "language_info": {
   "codemirror_mode": {
    "name": "ipython",
    "version": 3
   },
   "file_extension": ".py",
   "mimetype": "text/x-python",
   "name": "python",
   "nbconvert_exporter": "python",
   "pygments_lexer": "ipython3",
   "version": "3.12.4"
  }
 },
 "nbformat": 4,
 "nbformat_minor": 0
}
